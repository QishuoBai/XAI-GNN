{
 "cells": [
  {
   "cell_type": "markdown",
   "metadata": {},
   "source": [
    "TON_IoT 数据集"
   ]
  },
  {
   "cell_type": "code",
   "execution_count": 1,
   "metadata": {},
   "outputs": [],
   "source": [
    "import pandas as pd\n",
    "\n",
    "# train_data = pd.read_parquet('./datasets/TON-IoT/ton_iot_train.parquet')\n",
    "# test_data = pd.read_parquet('./datasets/TON-IoT/ton_iot_test.parquet')\n",
    "train_data = pd.read_csv('./datasets/TON-IoT/ton_iot_train.csv')\n",
    "test_data = pd.read_csv('./datasets/TON-IoT/ton_iot_test.csv')"
   ]
  },
  {
   "cell_type": "code",
   "execution_count": 2,
   "metadata": {},
   "outputs": [
    {
     "name": "stdout",
     "output_type": "stream",
     "text": [
      "              precision    recall  f1-score   support\n",
      "\n",
      "           0     0.9950    0.9930    0.9940     90000\n",
      "           1     0.9997    0.9993    0.9995      6000\n",
      "           2     0.9852    0.9737    0.9794      6000\n",
      "           3     0.9892    0.9810    0.9851      6000\n",
      "           4     0.9726    0.9685    0.9705      6000\n",
      "           5     0.9841    0.9783    0.9812      6000\n",
      "           6     0.8486    0.9315    0.8881      6000\n",
      "           7     0.9862    0.9917    0.9889      6000\n",
      "           8     0.9461    0.9037    0.9244      6000\n",
      "           9     0.7469    0.7732    0.7598       313\n",
      "\n",
      "    accuracy                         0.9831    138313\n",
      "   macro avg     0.9454    0.9494    0.9471    138313\n",
      "weighted avg     0.9837    0.9831    0.9833    138313\n",
      "\n"
     ]
    }
   ],
   "source": [
    "from sklearn.ensemble import RandomForestClassifier\n",
    "from sklearn.metrics import confusion_matrix\n",
    "from sklearn.metrics import classification_report\n",
    "\n",
    "norm_cols = list(set(list(train_data.columns)) - set(list(['ID', 'src_ip', 'dst_ip', 'label', 'type'])))\n",
    "RF_classifier = RandomForestClassifier(random_state=42)\n",
    "RF_classifier.fit(train_data[norm_cols], train_data['type'])\n",
    "\n",
    "y_pred = RF_classifier.predict(test_data[norm_cols])\n",
    "cf_matrix = confusion_matrix(test_data['type'], y_pred)\n",
    "\n",
    "print(classification_report(test_data['type'], y_pred, digits=4))"
   ]
  }
 ],
 "metadata": {
  "kernelspec": {
   "display_name": "base",
   "language": "python",
   "name": "python3"
  },
  "language_info": {
   "codemirror_mode": {
    "name": "ipython",
    "version": 3
   },
   "file_extension": ".py",
   "mimetype": "text/x-python",
   "name": "python",
   "nbconvert_exporter": "python",
   "pygments_lexer": "ipython3",
   "version": "3.8.19"
  }
 },
 "nbformat": 4,
 "nbformat_minor": 2
}
