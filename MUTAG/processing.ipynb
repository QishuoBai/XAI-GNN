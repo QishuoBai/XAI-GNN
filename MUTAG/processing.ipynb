{
 "cells": [
  {
   "cell_type": "markdown",
   "metadata": {},
   "source": [
    "处理MUTAG数据"
   ]
  },
  {
   "cell_type": "code",
   "execution_count": 1,
   "metadata": {},
   "outputs": [],
   "source": [
    "import dgl\n",
    "import torch as th\n",
    "import torch.nn as nn\n",
    "import torch.nn.functional as F"
   ]
  },
  {
   "cell_type": "code",
   "execution_count": 6,
   "metadata": {},
   "outputs": [],
   "source": [
    "# 全局信息\n",
    "node_label = ['C', 'N', 'O', 'F', 'I', 'Cl', 'Br']\n",
    "node_feature_dim = len(node_label)\n",
    "edge_label = ['aromatic', 'single', 'double', 'triple']\n",
    "edge_feature_dim = len(edge_label)"
   ]
  },
  {
   "cell_type": "code",
   "execution_count": 7,
   "metadata": {},
   "outputs": [],
   "source": [
    "# 生成图结构\n",
    "graphs = []\n",
    "f = open('./data/MUTAG_graph_indicator.txt', 'r')\n",
    "graph_indicator = []\n",
    "for line in f:\n",
    "    graph_indicator.append(int(line))\n",
    "graph_num = graph_indicator[-1]\n",
    "total_node_num = len(graph_indicator)\n",
    "f.close()\n",
    "\n",
    "mutag_a = open('./data/MUTAG_A.txt', 'r')\n",
    "total_edge_num = 0\n",
    "graphs_edges = [[[],[]] for _ in range(graph_num)]\n",
    "for line in mutag_a:\n",
    "    total_edge_num += 1\n",
    "    line = line.strip().replace(' ', '')\n",
    "    src_id = int(line.split(',')[0]) # 1-base\n",
    "    dst_id = int(line.split(',')[1])\n",
    "    cur_graph_id = graph_indicator[src_id - 1] - 1 # 0-base\n",
    "    cur_graph_id_min = graph_indicator.index(cur_graph_id + 1) + 1 # 1-base\n",
    "    src_id -= cur_graph_id_min\n",
    "    dst_id -= cur_graph_id_min\n",
    "    graphs_edges[cur_graph_id][0].append(src_id)\n",
    "    graphs_edges[cur_graph_id][1].append(dst_id)\n",
    "mutag_a.close()\n",
    "for graph_id in range(graph_num):\n",
    "    g = dgl.graph(tuple(graphs_edges[graph_id]))\n",
    "    graphs.append(g)\n",
    "    "
   ]
  },
  {
   "cell_type": "code",
   "execution_count": 8,
   "metadata": {},
   "outputs": [],
   "source": [
    "# 为图添加特征\n",
    "node_feature = th.zeros((total_node_num, node_feature_dim))\n",
    "edge_feature = th.zeros((total_edge_num, edge_feature_dim))\n",
    "with open('./data/MUTAG_node_labels.txt', 'r') as f:\n",
    "    nid = 0\n",
    "    for line in f:\n",
    "        node_feature[nid][int(line)] = 1\n",
    "        nid += 1\n",
    "with open('./data/MUTAG_edge_labels.txt', 'r') as f:\n",
    "    eid = 0\n",
    "    for line in f:\n",
    "        edge_feature[eid][int(line)] = 1\n",
    "        eid += 1\n",
    "cur_nid_min = 0\n",
    "cur_eid_min = 0\n",
    "for graph_id, g in enumerate(graphs):\n",
    "    g.ndata['feature'] = node_feature[cur_nid_min:cur_nid_min + g.num_nodes()]\n",
    "    cur_nid_min += g.num_nodes()\n",
    "    g.edata['feature'] = edge_feature[cur_eid_min:cur_eid_min + g.num_edges()]\n",
    "    cur_eid_min += g.num_edges()"
   ]
  },
  {
   "cell_type": "code",
   "execution_count": 9,
   "metadata": {},
   "outputs": [],
   "source": [
    "# 获取graph label\n",
    "graph_labels = th.zeros(graph_num)\n",
    "with open('./data/MUTAG_graph_labels.txt', 'r') as f:\n",
    "    graph_id = 0\n",
    "    for line in f:\n",
    "        if int(line) == 1:\n",
    "            graph_labels[graph_id] = 1\n",
    "        graph_id += 1"
   ]
  },
  {
   "cell_type": "code",
   "execution_count": 10,
   "metadata": {},
   "outputs": [],
   "source": [
    "# 存储\n",
    "th.save(graph_labels, './data/graph_labels.pth')\n",
    "dgl.save_graphs('./data/graphs.dgl', graphs)"
   ]
  },
  {
   "cell_type": "code",
   "execution_count": 15,
   "metadata": {},
   "outputs": [
    {
     "data": {
      "text/plain": [
       "tensor(0.1000)"
      ]
     },
     "execution_count": 15,
     "metadata": {},
     "output_type": "execute_result"
    }
   ],
   "source": [
    "a = th.tensor((0))\n",
    "a + 0.1"
   ]
  }
 ],
 "metadata": {
  "kernelspec": {
   "display_name": "base",
   "language": "python",
   "name": "python3"
  },
  "language_info": {
   "codemirror_mode": {
    "name": "ipython",
    "version": 3
   },
   "file_extension": ".py",
   "mimetype": "text/x-python",
   "name": "python",
   "nbconvert_exporter": "python",
   "pygments_lexer": "ipython3",
   "version": "3.11.5"
  }
 },
 "nbformat": 4,
 "nbformat_minor": 2
}
